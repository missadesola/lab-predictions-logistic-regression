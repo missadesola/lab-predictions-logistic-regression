{
 "cells": [
  {
   "cell_type": "code",
   "execution_count": 191,
   "id": "cc08fa99",
   "metadata": {},
   "outputs": [
    {
     "name": "stdout",
     "output_type": "stream",
     "text": [
      "········\n"
     ]
    }
   ],
   "source": [
    "import pandas as pd\n",
    "import numpy as np\n",
    "from datetime import datetime as dt\n",
    "import seaborn as sns\n",
    "import matplotlib.pyplot as plt\n",
    "from sklearn.linear_model import LogisticRegression\n",
    "from sklearn.metrics import confusion_matrix, plot_confusion_matrix, cohen_kappa_score, accuracy_score\n",
    "from sklearn.preprocessing import OneHotEncoder\n",
    "from sklearn.model_selection import train_test_split\n",
    "import warnings\n",
    "warnings.filterwarnings('ignore')\n",
    "import pymysql\n",
    "from sqlalchemy import create_engine\n",
    "import getpass\n",
    "password = getpass.getpass()"
   ]
  },
  {
   "cell_type": "code",
   "execution_count": 192,
   "id": "3d548332",
   "metadata": {},
   "outputs": [],
   "source": [
    "connection_string = 'mysql+pymysql://root:' + password + '@localhost/sakila'\n",
    "engine = create_engine(connection_string)"
   ]
  },
  {
   "cell_type": "code",
   "execution_count": 193,
   "id": "a1c761e9",
   "metadata": {},
   "outputs": [],
   "source": [
    "# extract information relevant to building the prediction model\n",
    "query1 = pd.read_sql_query(\n",
    "'''\n",
    "SELECT \n",
    "    f.film_id, f.title, c.name AS category, f.rating, f.rental_rate, f.rental_duration, r.rental_date\n",
    "FROM \n",
    "    film f\n",
    "JOIN\n",
    "    film_category fc ON f.film_id = fc.film_id\n",
    "JOIN\n",
    "    category c ON fc.category_id = c.category_id\n",
    "JOIN \n",
    "    inventory i ON f.film_id = i.film_id\n",
    "JOIN \n",
    "    rental r ON i.inventory_id = r.inventory_id;\n",
    "''', con = engine\n",
    ")"
   ]
  },
  {
   "cell_type": "code",
   "execution_count": 194,
   "id": "7f42e66e",
   "metadata": {},
   "outputs": [
    {
     "data": {
      "text/html": [
       "<div>\n",
       "<style scoped>\n",
       "    .dataframe tbody tr th:only-of-type {\n",
       "        vertical-align: middle;\n",
       "    }\n",
       "\n",
       "    .dataframe tbody tr th {\n",
       "        vertical-align: top;\n",
       "    }\n",
       "\n",
       "    .dataframe thead th {\n",
       "        text-align: right;\n",
       "    }\n",
       "</style>\n",
       "<table border=\"1\" class=\"dataframe\">\n",
       "  <thead>\n",
       "    <tr style=\"text-align: right;\">\n",
       "      <th></th>\n",
       "      <th>film_id</th>\n",
       "      <th>title</th>\n",
       "      <th>category</th>\n",
       "      <th>rating</th>\n",
       "      <th>rental_rate</th>\n",
       "      <th>rental_duration</th>\n",
       "      <th>rental_date</th>\n",
       "    </tr>\n",
       "  </thead>\n",
       "  <tbody>\n",
       "    <tr>\n",
       "      <th>0</th>\n",
       "      <td>19</td>\n",
       "      <td>AMADEUS HOLY</td>\n",
       "      <td>Action</td>\n",
       "      <td>PG</td>\n",
       "      <td>0.99</td>\n",
       "      <td>6</td>\n",
       "      <td>2005-08-02 01:16:59</td>\n",
       "    </tr>\n",
       "    <tr>\n",
       "      <th>1</th>\n",
       "      <td>19</td>\n",
       "      <td>AMADEUS HOLY</td>\n",
       "      <td>Action</td>\n",
       "      <td>PG</td>\n",
       "      <td>0.99</td>\n",
       "      <td>6</td>\n",
       "      <td>2005-08-18 04:26:54</td>\n",
       "    </tr>\n",
       "    <tr>\n",
       "      <th>2</th>\n",
       "      <td>19</td>\n",
       "      <td>AMADEUS HOLY</td>\n",
       "      <td>Action</td>\n",
       "      <td>PG</td>\n",
       "      <td>0.99</td>\n",
       "      <td>6</td>\n",
       "      <td>2005-06-20 20:35:28</td>\n",
       "    </tr>\n",
       "    <tr>\n",
       "      <th>3</th>\n",
       "      <td>19</td>\n",
       "      <td>AMADEUS HOLY</td>\n",
       "      <td>Action</td>\n",
       "      <td>PG</td>\n",
       "      <td>0.99</td>\n",
       "      <td>6</td>\n",
       "      <td>2005-07-09 05:01:58</td>\n",
       "    </tr>\n",
       "    <tr>\n",
       "      <th>4</th>\n",
       "      <td>19</td>\n",
       "      <td>AMADEUS HOLY</td>\n",
       "      <td>Action</td>\n",
       "      <td>PG</td>\n",
       "      <td>0.99</td>\n",
       "      <td>6</td>\n",
       "      <td>2005-07-30 08:02:39</td>\n",
       "    </tr>\n",
       "  </tbody>\n",
       "</table>\n",
       "</div>"
      ],
      "text/plain": [
       "   film_id         title category rating  rental_rate  rental_duration  \\\n",
       "0       19  AMADEUS HOLY   Action     PG         0.99                6   \n",
       "1       19  AMADEUS HOLY   Action     PG         0.99                6   \n",
       "2       19  AMADEUS HOLY   Action     PG         0.99                6   \n",
       "3       19  AMADEUS HOLY   Action     PG         0.99                6   \n",
       "4       19  AMADEUS HOLY   Action     PG         0.99                6   \n",
       "\n",
       "          rental_date  \n",
       "0 2005-08-02 01:16:59  \n",
       "1 2005-08-18 04:26:54  \n",
       "2 2005-06-20 20:35:28  \n",
       "3 2005-07-09 05:01:58  \n",
       "4 2005-07-30 08:02:39  "
      ]
     },
     "metadata": {},
     "output_type": "display_data"
    }
   ],
   "source": [
    "# read data into pandas dataframe\n",
    "data = pd.DataFrame(query1)\n",
    "display(data.head())"
   ]
  },
  {
   "cell_type": "markdown",
   "id": "ad68907e",
   "metadata": {},
   "source": [
    "Analyze extracted features and transform them. You may need to encode some categorical variables, or scale numerical variables.  "
   ]
  },
  {
   "cell_type": "code",
   "execution_count": 195,
   "id": "97f18372",
   "metadata": {},
   "outputs": [
    {
     "name": "stdout",
     "output_type": "stream",
     "text": [
      "<class 'pandas.core.frame.DataFrame'>\n",
      "RangeIndex: 16044 entries, 0 to 16043\n",
      "Data columns (total 7 columns):\n",
      " #   Column           Non-Null Count  Dtype         \n",
      "---  ------           --------------  -----         \n",
      " 0   film_id          16044 non-null  int64         \n",
      " 1   title            16044 non-null  object        \n",
      " 2   category         16044 non-null  object        \n",
      " 3   rating           16044 non-null  object        \n",
      " 4   rental_rate      16044 non-null  float64       \n",
      " 5   rental_duration  16044 non-null  int64         \n",
      " 6   rental_date      16044 non-null  datetime64[ns]\n",
      "dtypes: datetime64[ns](1), float64(1), int64(2), object(3)\n",
      "memory usage: 877.5+ KB\n"
     ]
    },
    {
     "data": {
      "text/plain": [
       "None"
      ]
     },
     "metadata": {},
     "output_type": "display_data"
    }
   ],
   "source": [
    "display(data.info())"
   ]
  },
  {
   "cell_type": "code",
   "execution_count": 196,
   "id": "923379d1",
   "metadata": {},
   "outputs": [
    {
     "data": {
      "image/png": "[encoded data removed]",
      "text/plain": [
       "<Figure size 432x288 with 1 Axes>"
      ]
     },
     "metadata": {
      "needs_background": "light"
     },
     "output_type": "display_data"
    },
    {
     "data": {
      "image/png": "[encoded data removed]",
      "text/plain": [
       "<Figure size 432x288 with 1 Axes>"
      ]
     },
     "metadata": {
      "needs_background": "light"
     },
     "output_type": "display_data"
    },
    {
     "data": {
      "image/png": "[encoded data removed]",
      "text/plain": [
       "<Figure size 432x288 with 1 Axes>"
      ]
     },
     "metadata": {
      "needs_background": "light"
     },
     "output_type": "display_data"
    }
   ],
   "source": [
    "for column in data._get_numeric_data():\n",
    "    sns.distplot(numerical[column], bins=20)\n",
    "    plt.show()"
   ]
  },
  {
   "cell_type": "code",
   "execution_count": 197,
   "id": "ccda477b",
   "metadata": {},
   "outputs": [
    {
     "data": {
      "text/plain": [
       "dtype('O')"
      ]
     },
     "execution_count": 197,
     "metadata": {},
     "output_type": "execute_result"
    }
   ],
   "source": [
    "# converting rental_duration type from numeric to categorical\n",
    "def rental_duration_cat(x):\n",
    "    x = str(x)\n",
    "    return x \n",
    "\n",
    "data['rental_duration'] = data['rental_duration'].apply(rental_duration_cat)\n",
    "data['rental_duration'].dtype"
   ]
  },
  {
   "cell_type": "code",
   "execution_count": 198,
   "id": "88b10d99",
   "metadata": {},
   "outputs": [
    {
     "data": {
      "image/png": "[encoded data removed]",
      "text/plain": [
       "<Figure size 432x288 with 1 Axes>"
      ]
     },
     "metadata": {
      "needs_background": "light"
     },
     "output_type": "display_data"
    },
    {
     "data": {
      "text/plain": [
       "<Figure size 432x288 with 0 Axes>"
      ]
     },
     "metadata": {},
     "output_type": "display_data"
    },
    {
     "data": {
      "image/png": "[encoded data removed]",
      "text/plain": [
       "<Figure size 432x288 with 1 Axes>"
      ]
     },
     "metadata": {
      "needs_background": "light"
     },
     "output_type": "display_data"
    },
    {
     "data": {
      "text/plain": [
       "<Figure size 432x288 with 0 Axes>"
      ]
     },
     "metadata": {},
     "output_type": "display_data"
    },
    {
     "data": {
      "image/png": "[encoded data removed]",
      "text/plain": [
       "<Figure size 432x288 with 1 Axes>"
      ]
     },
     "metadata": {
      "needs_background": "light"
     },
     "output_type": "display_data"
    },
    {
     "data": {
      "text/plain": [
       "<Figure size 432x288 with 0 Axes>"
      ]
     },
     "metadata": {},
     "output_type": "display_data"
    }
   ],
   "source": [
    "col = ['category', 'rating', 'rental_duration']\n",
    "for column in col:\n",
    "    my_data = data[column].value_counts().reset_index()\n",
    "    ax = sns.barplot(x=column, y=\"index\", data = my_data)\n",
    "    plt.figure()\n",
    "    plt.show()\n",
    "    display()"
   ]
  },
  {
   "cell_type": "code",
   "execution_count": 199,
   "id": "a0c64241",
   "metadata": {},
   "outputs": [
    {
     "data": {
      "text/html": [
       "<div>\n",
       "<style scoped>\n",
       "    .dataframe tbody tr th:only-of-type {\n",
       "        vertical-align: middle;\n",
       "    }\n",
       "\n",
       "    .dataframe tbody tr th {\n",
       "        vertical-align: top;\n",
       "    }\n",
       "\n",
       "    .dataframe thead th {\n",
       "        text-align: right;\n",
       "    }\n",
       "</style>\n",
       "<table border=\"1\" class=\"dataframe\">\n",
       "  <thead>\n",
       "    <tr style=\"text-align: right;\">\n",
       "      <th></th>\n",
       "      <th>film_id</th>\n",
       "      <th>title</th>\n",
       "      <th>category</th>\n",
       "      <th>rating</th>\n",
       "      <th>rental_rate</th>\n",
       "      <th>rental_duration</th>\n",
       "      <th>rental_date</th>\n",
       "    </tr>\n",
       "  </thead>\n",
       "  <tbody>\n",
       "    <tr>\n",
       "      <th>0</th>\n",
       "      <td>19</td>\n",
       "      <td>0.0</td>\n",
       "      <td>1.0</td>\n",
       "      <td>0.0</td>\n",
       "      <td>0.99</td>\n",
       "      <td>0.0</td>\n",
       "      <td>2005-08-02 01:16:59</td>\n",
       "    </tr>\n",
       "    <tr>\n",
       "      <th>1</th>\n",
       "      <td>19</td>\n",
       "      <td>0.0</td>\n",
       "      <td>1.0</td>\n",
       "      <td>0.0</td>\n",
       "      <td>0.99</td>\n",
       "      <td>0.0</td>\n",
       "      <td>2005-08-18 04:26:54</td>\n",
       "    </tr>\n",
       "    <tr>\n",
       "      <th>2</th>\n",
       "      <td>19</td>\n",
       "      <td>0.0</td>\n",
       "      <td>1.0</td>\n",
       "      <td>0.0</td>\n",
       "      <td>0.99</td>\n",
       "      <td>0.0</td>\n",
       "      <td>2005-06-20 20:35:28</td>\n",
       "    </tr>\n",
       "    <tr>\n",
       "      <th>3</th>\n",
       "      <td>19</td>\n",
       "      <td>0.0</td>\n",
       "      <td>1.0</td>\n",
       "      <td>0.0</td>\n",
       "      <td>0.99</td>\n",
       "      <td>0.0</td>\n",
       "      <td>2005-07-09 05:01:58</td>\n",
       "    </tr>\n",
       "    <tr>\n",
       "      <th>4</th>\n",
       "      <td>19</td>\n",
       "      <td>0.0</td>\n",
       "      <td>1.0</td>\n",
       "      <td>0.0</td>\n",
       "      <td>0.99</td>\n",
       "      <td>0.0</td>\n",
       "      <td>2005-07-30 08:02:39</td>\n",
       "    </tr>\n",
       "  </tbody>\n",
       "</table>\n",
       "</div>"
      ],
      "text/plain": [
       "   film_id  title  category  rating  rental_rate  rental_duration  \\\n",
       "0       19    0.0       1.0     0.0         0.99              0.0   \n",
       "1       19    0.0       1.0     0.0         0.99              0.0   \n",
       "2       19    0.0       1.0     0.0         0.99              0.0   \n",
       "3       19    0.0       1.0     0.0         0.99              0.0   \n",
       "4       19    0.0       1.0     0.0         0.99              0.0   \n",
       "\n",
       "          rental_date  \n",
       "0 2005-08-02 01:16:59  \n",
       "1 2005-08-18 04:26:54  \n",
       "2 2005-06-20 20:35:28  \n",
       "3 2005-07-09 05:01:58  \n",
       "4 2005-07-30 08:02:39  "
      ]
     },
     "metadata": {},
     "output_type": "display_data"
    }
   ],
   "source": [
    "# creating instance of one hot encoder\n",
    "enc = OneHotEncoder()\n",
    "\n",
    "# assigning numerical values\n",
    "for column in data.select_dtypes(object):\n",
    "    data[column] = pd.DataFrame(enc.fit_transform(data[[column]]).toarray())\n",
    "display(data.head())"
   ]
  },
  {
   "cell_type": "code",
   "execution_count": 200,
   "id": "b8d5813c",
   "metadata": {},
   "outputs": [
    {
     "data": {
      "image/png": "[encoded data removed]",
      "text/plain": [
       "<Figure size 720x576 with 2 Axes>"
      ]
     },
     "metadata": {
      "needs_background": "light"
     },
     "output_type": "display_data"
    }
   ],
   "source": [
    "# checking correlation among features\n",
    "corr_matrix = data.corr(method='pearson')\n",
    "fig, ax = plt.subplots(figsize=(10, 8))\n",
    "ax = sns.heatmap(corr_matrix, annot=True)\n",
    "plt.show()"
   ]
  },
  {
   "cell_type": "markdown",
   "id": "49b57ec6",
   "metadata": {},
   "source": [
    "Create a query to get the list of films and a boolean indicating if it was rented last month. This would be our target variable. "
   ]
  },
  {
   "cell_type": "code",
   "execution_count": 201,
   "id": "b961deb2",
   "metadata": {},
   "outputs": [
    {
     "data": {
      "text/html": [
       "<div>\n",
       "<style scoped>\n",
       "    .dataframe tbody tr th:only-of-type {\n",
       "        vertical-align: middle;\n",
       "    }\n",
       "\n",
       "    .dataframe tbody tr th {\n",
       "        vertical-align: top;\n",
       "    }\n",
       "\n",
       "    .dataframe thead th {\n",
       "        text-align: right;\n",
       "    }\n",
       "</style>\n",
       "<table border=\"1\" class=\"dataframe\">\n",
       "  <thead>\n",
       "    <tr style=\"text-align: right;\">\n",
       "      <th></th>\n",
       "      <th>film_id</th>\n",
       "      <th>title</th>\n",
       "      <th>category</th>\n",
       "      <th>rating</th>\n",
       "      <th>rental_rate</th>\n",
       "      <th>rental_duration</th>\n",
       "      <th>rental_date</th>\n",
       "      <th>month</th>\n",
       "      <th>year</th>\n",
       "    </tr>\n",
       "  </thead>\n",
       "  <tbody>\n",
       "    <tr>\n",
       "      <th>0</th>\n",
       "      <td>19</td>\n",
       "      <td>0.0</td>\n",
       "      <td>1.0</td>\n",
       "      <td>0.0</td>\n",
       "      <td>0.99</td>\n",
       "      <td>0.0</td>\n",
       "      <td>2005-08-02</td>\n",
       "      <td>8</td>\n",
       "      <td>2005</td>\n",
       "    </tr>\n",
       "    <tr>\n",
       "      <th>1</th>\n",
       "      <td>19</td>\n",
       "      <td>0.0</td>\n",
       "      <td>1.0</td>\n",
       "      <td>0.0</td>\n",
       "      <td>0.99</td>\n",
       "      <td>0.0</td>\n",
       "      <td>2005-08-18</td>\n",
       "      <td>8</td>\n",
       "      <td>2005</td>\n",
       "    </tr>\n",
       "    <tr>\n",
       "      <th>2</th>\n",
       "      <td>19</td>\n",
       "      <td>0.0</td>\n",
       "      <td>1.0</td>\n",
       "      <td>0.0</td>\n",
       "      <td>0.99</td>\n",
       "      <td>0.0</td>\n",
       "      <td>2005-06-20</td>\n",
       "      <td>6</td>\n",
       "      <td>2005</td>\n",
       "    </tr>\n",
       "    <tr>\n",
       "      <th>3</th>\n",
       "      <td>19</td>\n",
       "      <td>0.0</td>\n",
       "      <td>1.0</td>\n",
       "      <td>0.0</td>\n",
       "      <td>0.99</td>\n",
       "      <td>0.0</td>\n",
       "      <td>2005-07-09</td>\n",
       "      <td>7</td>\n",
       "      <td>2005</td>\n",
       "    </tr>\n",
       "    <tr>\n",
       "      <th>4</th>\n",
       "      <td>19</td>\n",
       "      <td>0.0</td>\n",
       "      <td>1.0</td>\n",
       "      <td>0.0</td>\n",
       "      <td>0.99</td>\n",
       "      <td>0.0</td>\n",
       "      <td>2005-07-30</td>\n",
       "      <td>7</td>\n",
       "      <td>2005</td>\n",
       "    </tr>\n",
       "  </tbody>\n",
       "</table>\n",
       "</div>"
      ],
      "text/plain": [
       "   film_id  title  category  rating  rental_rate  rental_duration rental_date  \\\n",
       "0       19    0.0       1.0     0.0         0.99              0.0  2005-08-02   \n",
       "1       19    0.0       1.0     0.0         0.99              0.0  2005-08-18   \n",
       "2       19    0.0       1.0     0.0         0.99              0.0  2005-06-20   \n",
       "3       19    0.0       1.0     0.0         0.99              0.0  2005-07-09   \n",
       "4       19    0.0       1.0     0.0         0.99              0.0  2005-07-30   \n",
       "\n",
       "   month  year  \n",
       "0      8  2005  \n",
       "1      8  2005  \n",
       "2      6  2005  \n",
       "3      7  2005  \n",
       "4      7  2005  "
      ]
     },
     "metadata": {},
     "output_type": "display_data"
    }
   ],
   "source": [
    "data['rental_date'] = data['rental_date'].dt.normalize()\n",
    "data['month'] = data['rental_date'].dt.month\n",
    "data['year'] = data['rental_date'].dt.year\n",
    "display(data.head())"
   ]
  },
  {
   "cell_type": "code",
   "execution_count": 202,
   "id": "93df95a7",
   "metadata": {},
   "outputs": [
    {
     "data": {
      "text/plain": [
       "Timestamp('2005-05-24 00:00:00')"
      ]
     },
     "metadata": {},
     "output_type": "display_data"
    },
    {
     "data": {
      "text/plain": [
       "Timestamp('2006-02-14 00:00:00')"
      ]
     },
     "metadata": {},
     "output_type": "display_data"
    }
   ],
   "source": [
    "display(data['rental_date'].min())\n",
    "display(data['rental_date'].max())"
   ]
  },
  {
   "cell_type": "code",
   "execution_count": 203,
   "id": "41921f06",
   "metadata": {},
   "outputs": [
    {
     "data": {
      "text/html": [
       "<div>\n",
       "<style scoped>\n",
       "    .dataframe tbody tr th:only-of-type {\n",
       "        vertical-align: middle;\n",
       "    }\n",
       "\n",
       "    .dataframe tbody tr th {\n",
       "        vertical-align: top;\n",
       "    }\n",
       "\n",
       "    .dataframe thead th {\n",
       "        text-align: right;\n",
       "    }\n",
       "</style>\n",
       "<table border=\"1\" class=\"dataframe\">\n",
       "  <thead>\n",
       "    <tr style=\"text-align: right;\">\n",
       "      <th></th>\n",
       "      <th>film_id</th>\n",
       "      <th>title</th>\n",
       "      <th>category</th>\n",
       "      <th>rating</th>\n",
       "      <th>rental_rate</th>\n",
       "      <th>rental_duration</th>\n",
       "      <th>rental_date</th>\n",
       "      <th>month</th>\n",
       "      <th>year</th>\n",
       "      <th>rent_last_month</th>\n",
       "    </tr>\n",
       "  </thead>\n",
       "  <tbody>\n",
       "    <tr>\n",
       "      <th>0</th>\n",
       "      <td>19</td>\n",
       "      <td>0.0</td>\n",
       "      <td>1.0</td>\n",
       "      <td>0.0</td>\n",
       "      <td>0.99</td>\n",
       "      <td>0.0</td>\n",
       "      <td>2005-08-02</td>\n",
       "      <td>8</td>\n",
       "      <td>2005</td>\n",
       "      <td>no</td>\n",
       "    </tr>\n",
       "    <tr>\n",
       "      <th>1</th>\n",
       "      <td>19</td>\n",
       "      <td>0.0</td>\n",
       "      <td>1.0</td>\n",
       "      <td>0.0</td>\n",
       "      <td>0.99</td>\n",
       "      <td>0.0</td>\n",
       "      <td>2005-08-18</td>\n",
       "      <td>8</td>\n",
       "      <td>2005</td>\n",
       "      <td>no</td>\n",
       "    </tr>\n",
       "    <tr>\n",
       "      <th>2</th>\n",
       "      <td>19</td>\n",
       "      <td>0.0</td>\n",
       "      <td>1.0</td>\n",
       "      <td>0.0</td>\n",
       "      <td>0.99</td>\n",
       "      <td>0.0</td>\n",
       "      <td>2005-06-20</td>\n",
       "      <td>6</td>\n",
       "      <td>2005</td>\n",
       "      <td>no</td>\n",
       "    </tr>\n",
       "    <tr>\n",
       "      <th>3</th>\n",
       "      <td>19</td>\n",
       "      <td>0.0</td>\n",
       "      <td>1.0</td>\n",
       "      <td>0.0</td>\n",
       "      <td>0.99</td>\n",
       "      <td>0.0</td>\n",
       "      <td>2005-07-09</td>\n",
       "      <td>7</td>\n",
       "      <td>2005</td>\n",
       "      <td>no</td>\n",
       "    </tr>\n",
       "    <tr>\n",
       "      <th>4</th>\n",
       "      <td>19</td>\n",
       "      <td>0.0</td>\n",
       "      <td>1.0</td>\n",
       "      <td>0.0</td>\n",
       "      <td>0.99</td>\n",
       "      <td>0.0</td>\n",
       "      <td>2005-07-30</td>\n",
       "      <td>7</td>\n",
       "      <td>2005</td>\n",
       "      <td>no</td>\n",
       "    </tr>\n",
       "  </tbody>\n",
       "</table>\n",
       "</div>"
      ],
      "text/plain": [
       "   film_id  title  category  rating  rental_rate  rental_duration rental_date  \\\n",
       "0       19    0.0       1.0     0.0         0.99              0.0  2005-08-02   \n",
       "1       19    0.0       1.0     0.0         0.99              0.0  2005-08-18   \n",
       "2       19    0.0       1.0     0.0         0.99              0.0  2005-06-20   \n",
       "3       19    0.0       1.0     0.0         0.99              0.0  2005-07-09   \n",
       "4       19    0.0       1.0     0.0         0.99              0.0  2005-07-30   \n",
       "\n",
       "   month  year rent_last_month  \n",
       "0      8  2005              no  \n",
       "1      8  2005              no  \n",
       "2      6  2005              no  \n",
       "3      7  2005              no  \n",
       "4      7  2005              no  "
      ]
     },
     "metadata": {},
     "output_type": "display_data"
    }
   ],
   "source": [
    "data['rent_last_month'] = np.where((data['year'] == 2006) & (data['month'] == 2), 'yes', 'no')\n",
    "display(data.head())"
   ]
  },
  {
   "cell_type": "code",
   "execution_count": 204,
   "id": "70daaba8",
   "metadata": {},
   "outputs": [],
   "source": [
    "# split data into features and target\n",
    "y = data['rent_last_month']\n",
    "X = data.drop(['rent_last_month', 'rental_date', 'month', 'year', 'film_id'], axis=1)"
   ]
  },
  {
   "cell_type": "markdown",
   "id": "be88630c",
   "metadata": {},
   "source": [
    "Create a logistic regression model to predict this variable from the cleaned data.  \n",
    "Evaluate the results."
   ]
  },
  {
   "cell_type": "code",
   "execution_count": 205,
   "id": "ff3c5055",
   "metadata": {},
   "outputs": [
    {
     "data": {
      "text/html": [
       "<style>#sk-container-id-6 {color: black;background-color: white;}#sk-container-id-6 pre{padding: 0;}#sk-container-id-6 div.sk-toggleable {background-color: white;}#sk-container-id-6 label.sk-toggleable__label {cursor: pointer;display: block;width: 100%;margin-bottom: 0;padding: 0.3em;box-sizing: border-box;text-align: center;}#sk-container-id-6 label.sk-toggleable__label-arrow:before {content: \"▸\";float: left;margin-right: 0.25em;color: #696969;}#sk-container-id-6 label.sk-toggleable__label-arrow:hover:before {color: black;}#sk-container-id-6 div.sk-estimator:hover label.sk-toggleable__label-arrow:before {color: black;}#sk-container-id-6 div.sk-toggleable__content {max-height: 0;max-width: 0;overflow: hidden;text-align: left;background-color: #f0f8ff;}#sk-container-id-6 div.sk-toggleable__content pre {margin: 0.2em;color: black;border-radius: 0.25em;background-color: #f0f8ff;}#sk-container-id-6 input.sk-toggleable__control:checked~div.sk-toggleable__content {max-height: 200px;max-width: 100%;overflow: auto;}#sk-container-id-6 input.sk-toggleable__control:checked~label.sk-toggleable__label-arrow:before {content: \"▾\";}#sk-container-id-6 div.sk-estimator input.sk-toggleable__control:checked~label.sk-toggleable__label {background-color: #d4ebff;}#sk-container-id-6 div.sk-label input.sk-toggleable__control:checked~label.sk-toggleable__label {background-color: #d4ebff;}#sk-container-id-6 input.sk-hidden--visually {border: 0;clip: rect(1px 1px 1px 1px);clip: rect(1px, 1px, 1px, 1px);height: 1px;margin: -1px;overflow: hidden;padding: 0;position: absolute;width: 1px;}#sk-container-id-6 div.sk-estimator {font-family: monospace;background-color: #f0f8ff;border: 1px dotted black;border-radius: 0.25em;box-sizing: border-box;margin-bottom: 0.5em;}#sk-container-id-6 div.sk-estimator:hover {background-color: #d4ebff;}#sk-container-id-6 div.sk-parallel-item::after {content: \"\";width: 100%;border-bottom: 1px solid gray;flex-grow: 1;}#sk-container-id-6 div.sk-label:hover label.sk-toggleable__label {background-color: #d4ebff;}#sk-container-id-6 div.sk-serial::before {content: \"\";position: absolute;border-left: 1px solid gray;box-sizing: border-box;top: 0;bottom: 0;left: 50%;z-index: 0;}#sk-container-id-6 div.sk-serial {display: flex;flex-direction: column;align-items: center;background-color: white;padding-right: 0.2em;padding-left: 0.2em;position: relative;}#sk-container-id-6 div.sk-item {position: relative;z-index: 1;}#sk-container-id-6 div.sk-parallel {display: flex;align-items: stretch;justify-content: center;background-color: white;position: relative;}#sk-container-id-6 div.sk-item::before, #sk-container-id-6 div.sk-parallel-item::before {content: \"\";position: absolute;border-left: 1px solid gray;box-sizing: border-box;top: 0;bottom: 0;left: 50%;z-index: -1;}#sk-container-id-6 div.sk-parallel-item {display: flex;flex-direction: column;z-index: 1;position: relative;background-color: white;}#sk-container-id-6 div.sk-parallel-item:first-child::after {align-self: flex-end;width: 50%;}#sk-container-id-6 div.sk-parallel-item:last-child::after {align-self: flex-start;width: 50%;}#sk-container-id-6 div.sk-parallel-item:only-child::after {width: 0;}#sk-container-id-6 div.sk-dashed-wrapped {border: 1px dashed gray;margin: 0 0.4em 0.5em 0.4em;box-sizing: border-box;padding-bottom: 0.4em;background-color: white;}#sk-container-id-6 div.sk-label label {font-family: monospace;font-weight: bold;display: inline-block;line-height: 1.2em;}#sk-container-id-6 div.sk-label-container {text-align: center;}#sk-container-id-6 div.sk-container {/* jupyter's `normalize.less` sets `[hidden] { display: none; }` but bootstrap.min.css set `[hidden] { display: none !important; }` so we also need the `!important` here to be able to override the default hidden behavior on the sphinx rendered scikit-learn.org. See: https://github.com/scikit-learn/scikit-learn/issues/21755 */display: inline-block !important;position: relative;}#sk-container-id-6 div.sk-text-repr-fallback {display: none;}</style><div id=\"sk-container-id-6\" class=\"sk-top-container\"><div class=\"sk-text-repr-fallback\"><pre>LogisticRegression()</pre><b>In a Jupyter environment, please rerun this cell to show the HTML representation or trust the notebook. <br />On GitHub, the HTML representation is unable to render, please try loading this page with nbviewer.org.</b></div><div class=\"sk-container\" hidden><div class=\"sk-item\"><div class=\"sk-estimator sk-toggleable\"><input class=\"sk-toggleable__control sk-hidden--visually\" id=\"sk-estimator-id-6\" type=\"checkbox\" checked><label for=\"sk-estimator-id-6\" class=\"sk-toggleable__label sk-toggleable__label-arrow\">LogisticRegression</label><div class=\"sk-toggleable__content\"><pre>LogisticRegression()</pre></div></div></div></div></div>"
      ],
      "text/plain": [
       "LogisticRegression()"
      ]
     },
     "execution_count": 205,
     "metadata": {},
     "output_type": "execute_result"
    }
   ],
   "source": [
    "# separate the data\n",
    "X_train, X_test, y_train, y_test = train_test_split(X, y, test_size=0.3, random_state=42)\n",
    "\n",
    "classification = LogisticRegression()\n",
    "classification.fit(X_train, y_train)"
   ]
  },
  {
   "cell_type": "code",
   "execution_count": 206,
   "id": "b3be6df5",
   "metadata": {},
   "outputs": [
    {
     "data": {
      "image/png": "[encoded data removed]",
      "text/plain": [
       "<Figure size 432x288 with 2 Axes>"
      ]
     },
     "metadata": {
      "needs_background": "light"
     },
     "output_type": "display_data"
    }
   ],
   "source": [
    "predictions = classification.predict(X_test)\n",
    "\n",
    "plot_confusion_matrix(classification, X_test, y_test)\n",
    "plt.show()"
   ]
  },
  {
   "cell_type": "code",
   "execution_count": 207,
   "id": "b51d5568",
   "metadata": {},
   "outputs": [
    {
     "data": {
      "text/plain": [
       "'Kappa of the model:  0.0'"
      ]
     },
     "metadata": {},
     "output_type": "display_data"
    },
    {
     "data": {
      "text/plain": [
       "'Accuracy score: 0.99'"
      ]
     },
     "metadata": {},
     "output_type": "display_data"
    }
   ],
   "source": [
    "display('Kappa of the model: %4.1f' % cohen_kappa_score(y_test, predictions))\n",
    "display('Accuracy score: %4.2f' % accuracy_score(y_test, predictions))"
   ]
  },
  {
   "cell_type": "markdown",
   "id": "7c2add27",
   "metadata": {},
   "source": []
  }
 ],
 "metadata": {
  "kernelspec": {
   "display_name": "Python 3",
   "language": "python",
   "name": "python3"
  },
  "language_info": {
   "codemirror_mode": {
    "name": "ipython",
    "version": 3
   },
   "file_extension": ".py",
   "mimetype": "text/x-python",
   "name": "python",
   "nbconvert_exporter": "python",
   "pygments_lexer": "ipython3",
   "version": "3.8.8"
  }
 },
 "nbformat": 4,
 "nbformat_minor": 5
}
